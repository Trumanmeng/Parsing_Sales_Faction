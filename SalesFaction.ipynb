{
 "cells": [
  {
   "cell_type": "code",
   "execution_count": 164,
   "metadata": {},
   "outputs": [],
   "source": [
    "import pandas as pd\n",
    "import numpy as np\n",
    "import re"
   ]
  },
  {
   "cell_type": "code",
   "execution_count": 165,
   "metadata": {},
   "outputs": [],
   "source": [
    "data=pd.read_excel(r\"D:\\OneDrive\\文档\\IGworkbook.xlsx\")\n",
    "salesfac=data.SalesFac\n",
    "splited_salesfac=salesfac.str.split(pat=\";\",expand=True)"
   ]
  },
  {
   "cell_type": "code",
   "execution_count": 166,
   "metadata": {},
   "outputs": [],
   "source": [
    "splited_salesfac=splited_salesfac.replace({None:'其他:0%'})\n",
    "for col_num in range(splited_salesfac.shape[1]):\n",
    "    splited_salesfac[col_num]=splited_salesfac[col_num].str.split(\":\")"
   ]
  },
  {
   "cell_type": "code",
   "execution_count": 167,
   "metadata": {},
   "outputs": [],
   "source": [
    "reg=\"(?!.*(水产|广告|房地产|人力|贸易|销售|租赁|房产)).*(BT|建造|公交|安置房|政府|城市|建设|轨道|城建|工程|通行|回购|水|棚|暖|电|资源|地铁|交通|路|市政|开发|土地|热|基础|基建|邮|绿化|环境|文化|卫生|公共|运营|建筑|施工|保障).*\"\n",
    "fac_list=np.zeros(len(splited_salesfac))\n",
    "for row_num in range(splited_salesfac.shape[0]):#计算本数据集有多少个行，并遍历 √\n",
    "    for col_num in range(splited_salesfac.shape[1]):#计算本行有多少个列，并遍历 √\n",
    "        if re.match(reg,splited_salesfac.iloc[row_num,col_num][0]):\n",
    "            fac_list[row_num]=fac_list[row_num]+float(splited_salesfac.iloc[row_num,col_num][1].replace(\"%\",\"\"))"
   ]
  },
  {
   "cell_type": "code",
   "execution_count": 168,
   "metadata": {},
   "outputs": [],
   "source": [
    "data['salesfac_pct']=fac_list"
   ]
  },
  {
   "cell_type": "code",
   "execution_count": 169,
   "metadata": {},
   "outputs": [],
   "source": [
    "data.to_excel(r\"C:\\Users\\suzuha\\Desktop\\dataset.xlsx\",index=False)"
   ]
  }
 ],
 "metadata": {
  "kernelspec": {
   "display_name": "Python 3.9.12 ('base')",
   "language": "python",
   "name": "python3"
  },
  "language_info": {
   "codemirror_mode": {
    "name": "ipython",
    "version": 3
   },
   "file_extension": ".py",
   "mimetype": "text/x-python",
   "name": "python",
   "nbconvert_exporter": "python",
   "pygments_lexer": "ipython3",
   "version": "3.9.12"
  },
  "orig_nbformat": 4,
  "vscode": {
   "interpreter": {
    "hash": "6630a0be091535f92261ac4f1a61581dafb49c0e04c2a9569482f5c32dde038c"
   }
  }
 },
 "nbformat": 4,
 "nbformat_minor": 2
}
